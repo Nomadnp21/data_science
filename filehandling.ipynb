{
 "cells": [
  {
   "cell_type": "code",
   "execution_count": 2,
   "id": "1ab42f5c-598e-4648-8464-834b127c5727",
   "metadata": {},
   "outputs": [],
   "source": [
    "import pandas as pd"
   ]
  },
  {
   "cell_type": "code",
   "execution_count": 3,
   "id": "b391ba49-1fbb-4dbd-a250-97ec6bc6dc9b",
   "metadata": {},
   "outputs": [
    {
     "data": {
      "text/plain": [
       "'/home/jovyan/work'"
      ]
     },
     "execution_count": 3,
     "metadata": {},
     "output_type": "execute_result"
    }
   ],
   "source": [
    "pwd"
   ]
  },
  {
   "cell_type": "markdown",
   "id": "fca28b6e-c458-4739-86b9-1173e4f418cb",
   "metadata": {},
   "source": [
    "df=pd.read_csv('example.csv')"
   ]
  },
  {
   "cell_type": "markdown",
   "id": "95e6dbe7-44f9-47fa-ba3f-d7fefbb33709",
   "metadata": {},
   "source": [
    "df.to_csv('MyOutput',index=False)"
   ]
  },
  {
   "cell_type": "markdown",
   "id": "eaef4976-42f1-44ac-ae4a-56886efb0019",
   "metadata": {},
   "source": [
    "pd.read_excel('excel.xlsx',sheetname='sheet1')"
   ]
  },
  {
   "cell_type": "markdown",
   "id": "f28b4c44-1bf3-4b02-976a-e494491eefb9",
   "metadata": {},
   "source": [
    "df.to_excel('excel.xlsx',sheetname='sheet1')"
   ]
  },
  {
   "cell_type": "markdown",
   "id": "0983f1ee-40d2-4c26-a9f7-a52dd6ab0027",
   "metadata": {},
   "source": [
    "data=pd.read_html('https://hevodata.com/learn/mysql-to-power-bi/')"
   ]
  },
  {
   "cell_type": "code",
   "execution_count": 5,
   "id": "ae97764e-d776-4527-a460-bda844b8fdd4",
   "metadata": {},
   "outputs": [],
   "source": [
    "from sqlalchemy import create_engine"
   ]
  },
  {
   "cell_type": "code",
   "execution_count": 6,
   "id": "8cd7dbd3-fbe5-4bee-8dfa-90878415efc9",
   "metadata": {},
   "outputs": [],
   "source": [
    "engine=create_engine('sqlite:///:memory:')"
   ]
  },
  {
   "cell_type": "markdown",
   "id": "b8a0b631-5e89-4431-a443-615ae49d6c6d",
   "metadata": {},
   "source": [
    "df.to_sql('mytable',engine)"
   ]
  },
  {
   "cell_type": "markdown",
   "id": "4fa341c9-c0b5-49c5-b636-368dea196714",
   "metadata": {},
   "source": [
    "sqldf=pd.read_sql('mytable',con=engine)"
   ]
  },
  {
   "cell_type": "code",
   "execution_count": null,
   "id": "7ded00fb-1c31-437b-8e33-5fed19939679",
   "metadata": {},
   "outputs": [],
   "source": []
  }
 ],
 "metadata": {
  "kernelspec": {
   "display_name": "Python 3 (ipykernel)",
   "language": "python",
   "name": "python3"
  },
  "language_info": {
   "codemirror_mode": {
    "name": "ipython",
    "version": 3
   },
   "file_extension": ".py",
   "mimetype": "text/x-python",
   "name": "python",
   "nbconvert_exporter": "python",
   "pygments_lexer": "ipython3",
   "version": "3.10.6"
  }
 },
 "nbformat": 4,
 "nbformat_minor": 5
}
