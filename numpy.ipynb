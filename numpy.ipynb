{
 "cells": [
  {
   "cell_type": "markdown",
   "id": "a71a458d-a9d5-43b4-a42c-b8b62820fbdc",
   "metadata": {},
   "source": [
    "NUMPY _INTRODUCTION "
   ]
  },
  {
   "cell_type": "code",
   "execution_count": null,
   "id": "a55e61ef-6b79-4890-9bf1-064d2003a93b",
   "metadata": {},
   "outputs": [],
   "source": [
    "mylist=[1,2,3,4]"
   ]
  },
  {
   "cell_type": "code",
   "execution_count": 2,
   "id": "fdc58660-7ab8-41ff-ba31-13df5a69f0dc",
   "metadata": {},
   "outputs": [],
   "source": [
    "import numpy as np"
   ]
  },
  {
   "cell_type": "code",
   "execution_count": 3,
   "id": "1005408e-8642-4b9f-8caf-4092c69a8088",
   "metadata": {},
   "outputs": [],
   "source": [
    "arr=np.array(mylist)"
   ]
  },
  {
   "cell_type": "code",
   "execution_count": 4,
   "id": "407e3cf5-e4ff-4b68-8c39-f487bdd5b61f",
   "metadata": {},
   "outputs": [
    {
     "data": {
      "text/plain": [
       "array([1, 2, 3, 4])"
      ]
     },
     "execution_count": 4,
     "metadata": {},
     "output_type": "execute_result"
    }
   ],
   "source": [
    "arr"
   ]
  },
  {
   "cell_type": "code",
   "execution_count": 5,
   "id": "e98028e7-d1f3-4f72-aa75-824be92b6947",
   "metadata": {},
   "outputs": [
    {
     "data": {
      "text/plain": [
       "array([[1, 2, 3],\n",
       "       [4, 5, 6],\n",
       "       [7, 8, 9]])"
      ]
     },
     "execution_count": 5,
     "metadata": {},
     "output_type": "execute_result"
    }
   ],
   "source": [
    "my_mat=[[1,2,3],[4,5,6],[7,8,9]]\n",
    "np.array(my_mat)"
   ]
  },
  {
   "cell_type": "code",
   "execution_count": 6,
   "id": "a326f7ac-1fae-4197-a697-95c40540e5e5",
   "metadata": {},
   "outputs": [
    {
     "data": {
      "text/plain": [
       "array([0, 1, 2, 3, 4, 5, 6, 7, 8, 9])"
      ]
     },
     "execution_count": 6,
     "metadata": {},
     "output_type": "execute_result"
    }
   ],
   "source": [
    "np.arange(0,10)"
   ]
  },
  {
   "cell_type": "code",
   "execution_count": 7,
   "id": "993d37d4-b931-41d7-a087-1f2f895d59fb",
   "metadata": {},
   "outputs": [
    {
     "data": {
      "text/plain": [
       "array([ 0,  2,  4,  6,  8, 10])"
      ]
     },
     "execution_count": 7,
     "metadata": {},
     "output_type": "execute_result"
    }
   ],
   "source": [
    "np.arange(0,11,2)"
   ]
  },
  {
   "cell_type": "code",
   "execution_count": 9,
   "id": "702085e4-ff9d-4355-b967-283b500962f4",
   "metadata": {},
   "outputs": [
    {
     "data": {
      "text/plain": [
       "array([[0., 0., 0., 0., 0.],\n",
       "       [0., 0., 0., 0., 0.],\n",
       "       [0., 0., 0., 0., 0.],\n",
       "       [0., 0., 0., 0., 0.],\n",
       "       [0., 0., 0., 0., 0.]])"
      ]
     },
     "execution_count": 9,
     "metadata": {},
     "output_type": "execute_result"
    }
   ],
   "source": [
    "np.zeros(3)\n",
    "np.zeros((5,5))"
   ]
  },
  {
   "cell_type": "code",
   "execution_count": 10,
   "id": "62c70074-6959-4d81-a59f-967098b19f74",
   "metadata": {},
   "outputs": [
    {
     "data": {
      "text/plain": [
       "array([[1., 1., 1., 1.],\n",
       "       [1., 1., 1., 1.],\n",
       "       [1., 1., 1., 1.]])"
      ]
     },
     "execution_count": 10,
     "metadata": {},
     "output_type": "execute_result"
    }
   ],
   "source": [
    "np.ones((3,4))"
   ]
  },
  {
   "cell_type": "code",
   "execution_count": 11,
   "id": "26c277e9-6d35-4d5a-ae23-02ea85ff2598",
   "metadata": {},
   "outputs": [
    {
     "data": {
      "text/plain": [
       "array([0.        , 0.55555556, 1.11111111, 1.66666667, 2.22222222,\n",
       "       2.77777778, 3.33333333, 3.88888889, 4.44444444, 5.        ])"
      ]
     },
     "execution_count": 11,
     "metadata": {},
     "output_type": "execute_result"
    }
   ],
   "source": [
    "np.linspace(0,5,10)"
   ]
  },
  {
   "cell_type": "code",
   "execution_count": 12,
   "id": "e1c767ee-b358-48cc-89e0-e4397c37527e",
   "metadata": {},
   "outputs": [
    {
     "data": {
      "text/plain": [
       "array([[1., 0., 0., 0.],\n",
       "       [0., 1., 0., 0.],\n",
       "       [0., 0., 1., 0.],\n",
       "       [0., 0., 0., 1.]])"
      ]
     },
     "execution_count": 12,
     "metadata": {},
     "output_type": "execute_result"
    }
   ],
   "source": [
    "np.eye(4)"
   ]
  },
  {
   "cell_type": "code",
   "execution_count": 13,
   "id": "0a80f9c3-64ca-4bb2-9fa7-2a86fadbd966",
   "metadata": {},
   "outputs": [
    {
     "data": {
      "text/plain": [
       "array([0.11317888, 0.75212768, 0.47158289, 0.78260896, 0.44724703])"
      ]
     },
     "execution_count": 13,
     "metadata": {},
     "output_type": "execute_result"
    }
   ],
   "source": [
    "np.random.rand(5)"
   ]
  },
  {
   "cell_type": "code",
   "execution_count": 14,
   "id": "4a6f823f-944e-42e5-9fc9-e571a10c59a6",
   "metadata": {},
   "outputs": [
    {
     "data": {
      "text/plain": [
       "array([[0.81201487, 0.54188811, 0.8634858 , 0.40563919],\n",
       "       [0.21167601, 0.28810226, 0.38647595, 0.62607209],\n",
       "       [0.84479114, 0.54125849, 0.44777031, 0.92934174],\n",
       "       [0.20594529, 0.05733439, 0.32555284, 0.51195033]])"
      ]
     },
     "execution_count": 14,
     "metadata": {},
     "output_type": "execute_result"
    }
   ],
   "source": [
    "np.random.rand(4,4)"
   ]
  },
  {
   "cell_type": "code",
   "execution_count": 15,
   "id": "b8ee0ae8-2975-4d2e-89eb-8b7748874472",
   "metadata": {},
   "outputs": [
    {
     "data": {
      "text/plain": [
       "array([-0.45740991,  0.0837879 ])"
      ]
     },
     "execution_count": 15,
     "metadata": {},
     "output_type": "execute_result"
    }
   ],
   "source": [
    "np.random.randn(2)"
   ]
  },
  {
   "cell_type": "code",
   "execution_count": 16,
   "id": "4fe21adc-6f92-477c-b4f2-cd18fd568190",
   "metadata": {},
   "outputs": [
    {
     "data": {
      "text/plain": [
       "array([[ 1.25909179,  1.42211746, -0.24419825,  0.77092541],\n",
       "       [ 1.39608039, -1.48080601,  1.39823032, -0.83038428],\n",
       "       [-0.21215423, -0.69721235,  1.86378421, -1.48168031],\n",
       "       [-0.01380783, -0.26094066, -0.90301204, -0.07787287]])"
      ]
     },
     "execution_count": 16,
     "metadata": {},
     "output_type": "execute_result"
    }
   ],
   "source": [
    "np.random.randn(4,4)"
   ]
  },
  {
   "cell_type": "code",
   "execution_count": 17,
   "id": "dceb1bd3-f26f-4986-a721-47479f876306",
   "metadata": {},
   "outputs": [
    {
     "data": {
      "text/plain": [
       "31"
      ]
     },
     "execution_count": 17,
     "metadata": {},
     "output_type": "execute_result"
    }
   ],
   "source": [
    "np.random.randint(2,200)"
   ]
  },
  {
   "cell_type": "code",
   "execution_count": 18,
   "id": "5dcc5fe7-f779-4dce-8175-df6f5754b6b8",
   "metadata": {},
   "outputs": [
    {
     "data": {
      "text/plain": [
       "array([110, 115, 119])"
      ]
     },
     "execution_count": 18,
     "metadata": {},
     "output_type": "execute_result"
    }
   ],
   "source": [
    "np.random.randint(2,200,3)"
   ]
  },
  {
   "cell_type": "code",
   "execution_count": 19,
   "id": "f198e6a0-aa15-4d78-8be6-fe142c289f3a",
   "metadata": {},
   "outputs": [],
   "source": [
    "arr=np.arange(25)"
   ]
  },
  {
   "cell_type": "code",
   "execution_count": 20,
   "id": "bdeee24a-6ee5-4253-b2e4-c6b778e3da78",
   "metadata": {},
   "outputs": [
    {
     "data": {
      "text/plain": [
       "array([ 0,  1,  2,  3,  4,  5,  6,  7,  8,  9, 10, 11, 12, 13, 14, 15, 16,\n",
       "       17, 18, 19, 20, 21, 22, 23, 24])"
      ]
     },
     "execution_count": 20,
     "metadata": {},
     "output_type": "execute_result"
    }
   ],
   "source": [
    "arr"
   ]
  },
  {
   "cell_type": "code",
   "execution_count": 21,
   "id": "e0ea20dc-59de-48f7-92a4-2a239c32dda2",
   "metadata": {},
   "outputs": [],
   "source": [
    "ranarr= np.random.randint(0,50,10)"
   ]
  },
  {
   "cell_type": "code",
   "execution_count": 22,
   "id": "9adc5fa9-2b38-43c7-890f-094d258f8797",
   "metadata": {},
   "outputs": [
    {
     "data": {
      "text/plain": [
       "array([21, 12, 42, 18, 11, 33, 36,  1, 47, 42])"
      ]
     },
     "execution_count": 22,
     "metadata": {},
     "output_type": "execute_result"
    }
   ],
   "source": [
    "ranarr"
   ]
  },
  {
   "cell_type": "code",
   "execution_count": 23,
   "id": "c549ce16-1f5b-40cd-ad37-83f1fbf590fd",
   "metadata": {},
   "outputs": [
    {
     "data": {
      "text/plain": [
       "array([[ 0,  1,  2,  3,  4],\n",
       "       [ 5,  6,  7,  8,  9],\n",
       "       [10, 11, 12, 13, 14],\n",
       "       [15, 16, 17, 18, 19],\n",
       "       [20, 21, 22, 23, 24]])"
      ]
     },
     "execution_count": 23,
     "metadata": {},
     "output_type": "execute_result"
    }
   ],
   "source": [
    "arr.reshape(5,5)"
   ]
  },
  {
   "cell_type": "code",
   "execution_count": 24,
   "id": "e92fbb21-6812-4c82-a54f-59c456be7dfa",
   "metadata": {},
   "outputs": [
    {
     "data": {
      "text/plain": [
       "array([21, 12, 42, 18, 11, 33, 36,  1, 47, 42])"
      ]
     },
     "execution_count": 24,
     "metadata": {},
     "output_type": "execute_result"
    }
   ],
   "source": [
    "ranarr"
   ]
  },
  {
   "cell_type": "code",
   "execution_count": 25,
   "id": "481173c7-01d6-4f07-a388-87ba58065288",
   "metadata": {},
   "outputs": [
    {
     "data": {
      "text/plain": [
       "47"
      ]
     },
     "execution_count": 25,
     "metadata": {},
     "output_type": "execute_result"
    }
   ],
   "source": [
    "ranarr.max()"
   ]
  },
  {
   "cell_type": "code",
   "execution_count": 26,
   "id": "19f4a5d2-9376-4426-bc31-7ced98e58fc6",
   "metadata": {},
   "outputs": [
    {
     "data": {
      "text/plain": [
       "1"
      ]
     },
     "execution_count": 26,
     "metadata": {},
     "output_type": "execute_result"
    }
   ],
   "source": [
    "ranarr.min()"
   ]
  },
  {
   "cell_type": "code",
   "execution_count": 27,
   "id": "380d573e-35a5-42db-abd8-bf44b805093e",
   "metadata": {},
   "outputs": [
    {
     "data": {
      "text/plain": [
       "8"
      ]
     },
     "execution_count": 27,
     "metadata": {},
     "output_type": "execute_result"
    }
   ],
   "source": [
    "ranarr.argmax()"
   ]
  },
  {
   "cell_type": "code",
   "execution_count": 28,
   "id": "697d0c2e-ed63-49d0-9fe2-5b271bac1747",
   "metadata": {},
   "outputs": [
    {
     "data": {
      "text/plain": [
       "dtype('int64')"
      ]
     },
     "execution_count": 28,
     "metadata": {},
     "output_type": "execute_result"
    }
   ],
   "source": [
    "arr.dtype"
   ]
  },
  {
   "cell_type": "markdown",
   "id": "938fc53a-2f46-4f75-8f73-e1dfa2b22f7b",
   "metadata": {},
   "source": [
    "NUMPY INDEXING"
   ]
  },
  {
   "cell_type": "code",
   "execution_count": 29,
   "id": "6e563c20-442a-4320-86b3-cdc9f02aa0b7",
   "metadata": {},
   "outputs": [],
   "source": [
    "import numpy as np"
   ]
  },
  {
   "cell_type": "code",
   "execution_count": 30,
   "id": "b102dd48-357a-439c-ae5b-25cfdb95db92",
   "metadata": {},
   "outputs": [],
   "source": [
    "ar=np.arange(0,11)"
   ]
  },
  {
   "cell_type": "code",
   "execution_count": 31,
   "id": "f529bdbc-15b4-487c-841b-581049f488aa",
   "metadata": {},
   "outputs": [
    {
     "data": {
      "text/plain": [
       "array([ 0,  1,  2,  3,  4,  5,  6,  7,  8,  9, 10])"
      ]
     },
     "execution_count": 31,
     "metadata": {},
     "output_type": "execute_result"
    }
   ],
   "source": [
    "ar"
   ]
  },
  {
   "cell_type": "code",
   "execution_count": 32,
   "id": "98cb78d5-3d8f-4ef6-a265-d50c500a435e",
   "metadata": {},
   "outputs": [
    {
     "data": {
      "text/plain": [
       "8"
      ]
     },
     "execution_count": 32,
     "metadata": {},
     "output_type": "execute_result"
    }
   ],
   "source": [
    "ar[8]"
   ]
  },
  {
   "cell_type": "code",
   "execution_count": 33,
   "id": "e2dbfe0c-70ac-47da-8127-23bbbaf738c6",
   "metadata": {},
   "outputs": [
    {
     "data": {
      "text/plain": [
       "array([1, 2, 3, 4])"
      ]
     },
     "execution_count": 33,
     "metadata": {},
     "output_type": "execute_result"
    }
   ],
   "source": [
    "ar[1:5]"
   ]
  },
  {
   "cell_type": "code",
   "execution_count": 34,
   "id": "46366391-7a84-47d0-be7b-172deab2254c",
   "metadata": {},
   "outputs": [
    {
     "data": {
      "text/plain": [
       "array([0, 1, 2, 3, 4])"
      ]
     },
     "execution_count": 34,
     "metadata": {},
     "output_type": "execute_result"
    }
   ],
   "source": [
    "ar[0:5]"
   ]
  },
  {
   "cell_type": "code",
   "execution_count": 35,
   "id": "0ddd677b-b30f-4aef-a9a5-150be5ebd115",
   "metadata": {},
   "outputs": [
    {
     "data": {
      "text/plain": [
       "array([0, 1, 2, 3, 4, 5])"
      ]
     },
     "execution_count": 35,
     "metadata": {},
     "output_type": "execute_result"
    }
   ],
   "source": [
    "ar[:6]"
   ]
  },
  {
   "cell_type": "code",
   "execution_count": 37,
   "id": "05733e8d-4eff-48d2-91af-6a66fbdfe969",
   "metadata": {},
   "outputs": [
    {
     "data": {
      "text/plain": [
       "array([ 5,  6,  7,  8,  9, 10])"
      ]
     },
     "execution_count": 37,
     "metadata": {},
     "output_type": "execute_result"
    }
   ],
   "source": [
    "ar[5:]"
   ]
  },
  {
   "cell_type": "code",
   "execution_count": 38,
   "id": "d2ffb8a1-bc60-409c-b54f-1b229ec5f728",
   "metadata": {},
   "outputs": [],
   "source": [
    "ar[0:5]=100"
   ]
  },
  {
   "cell_type": "code",
   "execution_count": 39,
   "id": "63875dc9-7c9a-4b11-90e2-5d428eb3189d",
   "metadata": {},
   "outputs": [
    {
     "data": {
      "text/plain": [
       "array([100, 100, 100, 100, 100,   5,   6,   7,   8,   9,  10])"
      ]
     },
     "execution_count": 39,
     "metadata": {},
     "output_type": "execute_result"
    }
   ],
   "source": [
    "ar"
   ]
  },
  {
   "cell_type": "code",
   "execution_count": 40,
   "id": "d675640d-27ac-438e-9db0-7971fea21b95",
   "metadata": {},
   "outputs": [],
   "source": [
    "slice=arr[0:6]"
   ]
  },
  {
   "cell_type": "code",
   "execution_count": 41,
   "id": "36d4fba4-440e-4332-82c1-0f5cca5d0e3c",
   "metadata": {},
   "outputs": [
    {
     "data": {
      "text/plain": [
       "array([0, 1, 2, 3, 4, 5])"
      ]
     },
     "execution_count": 41,
     "metadata": {},
     "output_type": "execute_result"
    }
   ],
   "source": [
    "slice"
   ]
  },
  {
   "cell_type": "code",
   "execution_count": 42,
   "id": "3a0073a8-93d6-4148-9c11-2c8b8eca7ac2",
   "metadata": {},
   "outputs": [],
   "source": [
    "slice[:]=99"
   ]
  },
  {
   "cell_type": "code",
   "execution_count": 43,
   "id": "bc042284-b361-4a6d-86ed-6565c0d3c5e0",
   "metadata": {},
   "outputs": [
    {
     "data": {
      "text/plain": [
       "array([99, 99, 99, 99, 99, 99])"
      ]
     },
     "execution_count": 43,
     "metadata": {},
     "output_type": "execute_result"
    }
   ],
   "source": [
    "slice"
   ]
  },
  {
   "cell_type": "code",
   "execution_count": 44,
   "id": "2452476b-e816-439b-b3f5-a57f532c686f",
   "metadata": {},
   "outputs": [
    {
     "data": {
      "text/plain": [
       "array([99, 99, 99, 99, 99, 99,  6,  7,  8,  9, 10, 11, 12, 13, 14, 15, 16,\n",
       "       17, 18, 19, 20, 21, 22, 23, 24])"
      ]
     },
     "execution_count": 44,
     "metadata": {},
     "output_type": "execute_result"
    }
   ],
   "source": [
    "arr"
   ]
  },
  {
   "cell_type": "code",
   "execution_count": 45,
   "id": "15e0ae93-a3dd-4501-9f3f-dfc3e973e501",
   "metadata": {},
   "outputs": [],
   "source": [
    "arr1=arr.copy()"
   ]
  },
  {
   "cell_type": "code",
   "execution_count": 46,
   "id": "4c003b5d-2702-4858-a0ba-f3fe48757eb0",
   "metadata": {},
   "outputs": [
    {
     "data": {
      "text/plain": [
       "array([99, 99, 99, 99, 99, 99,  6,  7,  8,  9, 10, 11, 12, 13, 14, 15, 16,\n",
       "       17, 18, 19, 20, 21, 22, 23, 24])"
      ]
     },
     "execution_count": 46,
     "metadata": {},
     "output_type": "execute_result"
    }
   ],
   "source": [
    "arr1"
   ]
  },
  {
   "cell_type": "code",
   "execution_count": 47,
   "id": "075f0c6d-6a33-4619-87dc-b6f8f4994067",
   "metadata": {},
   "outputs": [
    {
     "data": {
      "text/plain": [
       "array([99, 99, 99, 99, 99, 99,  6,  7,  8,  9, 10, 11, 12, 13, 14, 15, 16,\n",
       "       17, 18, 19, 20, 21, 22, 23, 24])"
      ]
     },
     "execution_count": 47,
     "metadata": {},
     "output_type": "execute_result"
    }
   ],
   "source": [
    "arr"
   ]
  },
  {
   "cell_type": "code",
   "execution_count": 48,
   "id": "3e8c7ff9-ae98-4541-9aee-b23f8a30f9ab",
   "metadata": {},
   "outputs": [],
   "source": [
    "arr1[:]=78"
   ]
  },
  {
   "cell_type": "code",
   "execution_count": 49,
   "id": "bddfba9c-8347-432e-a972-3d18bd40efd6",
   "metadata": {},
   "outputs": [
    {
     "data": {
      "text/plain": [
       "array([78, 78, 78, 78, 78, 78, 78, 78, 78, 78, 78, 78, 78, 78, 78, 78, 78,\n",
       "       78, 78, 78, 78, 78, 78, 78, 78])"
      ]
     },
     "execution_count": 49,
     "metadata": {},
     "output_type": "execute_result"
    }
   ],
   "source": [
    "arr1"
   ]
  },
  {
   "cell_type": "code",
   "execution_count": 50,
   "id": "2865ce24-bf3d-48f0-adcb-a2e765d37ec2",
   "metadata": {},
   "outputs": [
    {
     "data": {
      "text/plain": [
       "array([99, 99, 99, 99, 99, 99,  6,  7,  8,  9, 10, 11, 12, 13, 14, 15, 16,\n",
       "       17, 18, 19, 20, 21, 22, 23, 24])"
      ]
     },
     "execution_count": 50,
     "metadata": {},
     "output_type": "execute_result"
    }
   ],
   "source": [
    "arr"
   ]
  },
  {
   "cell_type": "code",
   "execution_count": 51,
   "id": "d016f0d1-e79f-4eec-9dee-42dc0562248e",
   "metadata": {},
   "outputs": [],
   "source": [
    "arr2d=np.array([[5,6,7],[7,9,8],[2,3,4]])"
   ]
  },
  {
   "cell_type": "code",
   "execution_count": 52,
   "id": "7a8c25c9-0cf9-4a67-83b0-d02f41363af5",
   "metadata": {},
   "outputs": [
    {
     "data": {
      "text/plain": [
       "array([[5, 6, 7],\n",
       "       [7, 9, 8],\n",
       "       [2, 3, 4]])"
      ]
     },
     "execution_count": 52,
     "metadata": {},
     "output_type": "execute_result"
    }
   ],
   "source": [
    "arr2d"
   ]
  },
  {
   "cell_type": "code",
   "execution_count": 54,
   "id": "0dfc407b-5995-4e01-a9b8-3beeadc87582",
   "metadata": {},
   "outputs": [
    {
     "data": {
      "text/plain": [
       "7"
      ]
     },
     "execution_count": 54,
     "metadata": {},
     "output_type": "execute_result"
    }
   ],
   "source": [
    "arr2d[0][2]\n"
   ]
  },
  {
   "cell_type": "code",
   "execution_count": 55,
   "id": "651e3eef-c74c-42b8-8586-21298d3d0bd8",
   "metadata": {},
   "outputs": [
    {
     "data": {
      "text/plain": [
       "7"
      ]
     },
     "execution_count": 55,
     "metadata": {},
     "output_type": "execute_result"
    }
   ],
   "source": [
    "arr2d[0,2]"
   ]
  },
  {
   "cell_type": "code",
   "execution_count": 56,
   "id": "64292943-c73f-4f60-8d2e-dcea78e6c8e8",
   "metadata": {},
   "outputs": [
    {
     "data": {
      "text/plain": [
       "array([[6, 7],\n",
       "       [9, 8]])"
      ]
     },
     "execution_count": 56,
     "metadata": {},
     "output_type": "execute_result"
    }
   ],
   "source": [
    "arr2d[:2,1:]"
   ]
  },
  {
   "cell_type": "code",
   "execution_count": 57,
   "id": "5da96d8f-933a-419d-ae7e-d56d52e355a4",
   "metadata": {},
   "outputs": [],
   "source": [
    "a1=np.arange(1,11)"
   ]
  },
  {
   "cell_type": "code",
   "execution_count": 58,
   "id": "d32eda1c-b2c2-4abb-ad15-2d0d56542c44",
   "metadata": {},
   "outputs": [
    {
     "data": {
      "text/plain": [
       "array([ 1,  2,  3,  4,  5,  6,  7,  8,  9, 10])"
      ]
     },
     "execution_count": 58,
     "metadata": {},
     "output_type": "execute_result"
    }
   ],
   "source": [
    "a1"
   ]
  },
  {
   "cell_type": "code",
   "execution_count": 60,
   "id": "d93710e4-4ff1-4f66-8a82-962848ba8a1f",
   "metadata": {},
   "outputs": [],
   "source": [
    "bool_a1=a1>5"
   ]
  },
  {
   "cell_type": "code",
   "execution_count": 62,
   "id": "a1928eb6-8060-4530-9271-d6d6bc6405bf",
   "metadata": {},
   "outputs": [
    {
     "data": {
      "text/plain": [
       "array([ 6,  7,  8,  9, 10])"
      ]
     },
     "execution_count": 62,
     "metadata": {},
     "output_type": "execute_result"
    }
   ],
   "source": [
    "a1[bool_a1]"
   ]
  },
  {
   "cell_type": "code",
   "execution_count": 63,
   "id": "13dbb2cf-7fa2-4e22-b9a9-fa9ab1d3b063",
   "metadata": {},
   "outputs": [
    {
     "data": {
      "text/plain": [
       "array([ 6,  7,  8,  9, 10])"
      ]
     },
     "execution_count": 63,
     "metadata": {},
     "output_type": "execute_result"
    }
   ],
   "source": [
    "a1[a1>5]"
   ]
  },
  {
   "cell_type": "code",
   "execution_count": 64,
   "id": "014c9895-ad3c-4dd9-96d6-18825191d6cc",
   "metadata": {},
   "outputs": [],
   "source": [
    "b1=np.arange(50).reshape(5,10)"
   ]
  },
  {
   "cell_type": "code",
   "execution_count": 65,
   "id": "ed254106-283e-4e3d-b674-e392813c8338",
   "metadata": {},
   "outputs": [
    {
     "data": {
      "text/plain": [
       "array([[ 0,  1,  2,  3,  4,  5,  6,  7,  8,  9],\n",
       "       [10, 11, 12, 13, 14, 15, 16, 17, 18, 19],\n",
       "       [20, 21, 22, 23, 24, 25, 26, 27, 28, 29],\n",
       "       [30, 31, 32, 33, 34, 35, 36, 37, 38, 39],\n",
       "       [40, 41, 42, 43, 44, 45, 46, 47, 48, 49]])"
      ]
     },
     "execution_count": 65,
     "metadata": {},
     "output_type": "execute_result"
    }
   ],
   "source": [
    "b1"
   ]
  },
  {
   "cell_type": "markdown",
   "id": "5694e54f-21ca-449a-b39e-b066ce1e9643",
   "metadata": {},
   "source": [
    "NUMPY OPERATIONS"
   ]
  },
  {
   "cell_type": "code",
   "execution_count": 66,
   "id": "5de3549d-b1f4-4a5a-ae20-46cc270758df",
   "metadata": {},
   "outputs": [],
   "source": [
    "a2=np.arange(11)"
   ]
  },
  {
   "cell_type": "code",
   "execution_count": 67,
   "id": "4a578163-e1e6-47a5-b478-7634d29b51e3",
   "metadata": {},
   "outputs": [
    {
     "data": {
      "text/plain": [
       "array([ 0,  1,  2,  3,  4,  5,  6,  7,  8,  9, 10])"
      ]
     },
     "execution_count": 67,
     "metadata": {},
     "output_type": "execute_result"
    }
   ],
   "source": [
    "a2"
   ]
  },
  {
   "cell_type": "code",
   "execution_count": 68,
   "id": "2f16d620-47ca-4cd3-83aa-1b3b4a8dc7b4",
   "metadata": {},
   "outputs": [
    {
     "data": {
      "text/plain": [
       "array([ 0,  2,  4,  6,  8, 10, 12, 14, 16, 18, 20])"
      ]
     },
     "execution_count": 68,
     "metadata": {},
     "output_type": "execute_result"
    }
   ],
   "source": [
    "a2+a2"
   ]
  },
  {
   "cell_type": "code",
   "execution_count": 69,
   "id": "8478ade9-d579-4dce-81c4-144874f9569a",
   "metadata": {},
   "outputs": [
    {
     "data": {
      "text/plain": [
       "array([0, 0, 0, 0, 0, 0, 0, 0, 0, 0, 0])"
      ]
     },
     "execution_count": 69,
     "metadata": {},
     "output_type": "execute_result"
    }
   ],
   "source": [
    "a2-a2"
   ]
  },
  {
   "cell_type": "code",
   "execution_count": 70,
   "id": "652a6dbc-cbdd-4719-90b8-09b797170a73",
   "metadata": {},
   "outputs": [
    {
     "data": {
      "text/plain": [
       "array([  0,   1,   4,   9,  16,  25,  36,  49,  64,  81, 100])"
      ]
     },
     "execution_count": 70,
     "metadata": {},
     "output_type": "execute_result"
    }
   ],
   "source": [
    "a2*a2"
   ]
  },
  {
   "cell_type": "code",
   "execution_count": 71,
   "id": "ac2f8a6a-b9eb-4a7c-9f01-12637dc6a18c",
   "metadata": {},
   "outputs": [
    {
     "data": {
      "text/plain": [
       "array([100, 101, 102, 103, 104, 105, 106, 107, 108, 109, 110])"
      ]
     },
     "execution_count": 71,
     "metadata": {},
     "output_type": "execute_result"
    }
   ],
   "source": [
    "a2+100"
   ]
  },
  {
   "cell_type": "code",
   "execution_count": 72,
   "id": "4a9069d1-8ca4-4dff-ab90-13254ad870d3",
   "metadata": {},
   "outputs": [
    {
     "data": {
      "text/plain": [
       "array([ 0,  3,  6,  9, 12, 15, 18, 21, 24, 27, 30])"
      ]
     },
     "execution_count": 72,
     "metadata": {},
     "output_type": "execute_result"
    }
   ],
   "source": [
    "a2*3"
   ]
  },
  {
   "cell_type": "code",
   "execution_count": 73,
   "id": "4dbb1476-2c30-49ff-b6dc-647c7f831c67",
   "metadata": {},
   "outputs": [
    {
     "name": "stderr",
     "output_type": "stream",
     "text": [
      "/tmp/ipykernel_90/3568982664.py:1: RuntimeWarning: invalid value encountered in divide\n",
      "  a2/a2\n"
     ]
    },
    {
     "data": {
      "text/plain": [
       "array([nan,  1.,  1.,  1.,  1.,  1.,  1.,  1.,  1.,  1.,  1.])"
      ]
     },
     "execution_count": 73,
     "metadata": {},
     "output_type": "execute_result"
    }
   ],
   "source": [
    "a2/a2"
   ]
  },
  {
   "cell_type": "code",
   "execution_count": 74,
   "id": "1f249067-2a71-4167-a751-bb4e77439aa4",
   "metadata": {},
   "outputs": [
    {
     "name": "stderr",
     "output_type": "stream",
     "text": [
      "/tmp/ipykernel_90/2660750406.py:1: RuntimeWarning: divide by zero encountered in divide\n",
      "  1/a2\n"
     ]
    },
    {
     "data": {
      "text/plain": [
       "array([       inf, 1.        , 0.5       , 0.33333333, 0.25      ,\n",
       "       0.2       , 0.16666667, 0.14285714, 0.125     , 0.11111111,\n",
       "       0.1       ])"
      ]
     },
     "execution_count": 74,
     "metadata": {},
     "output_type": "execute_result"
    }
   ],
   "source": [
    "1/a2"
   ]
  },
  {
   "cell_type": "code",
   "execution_count": 75,
   "id": "6a283ea4-be34-4dc4-9925-f234e5c82afd",
   "metadata": {},
   "outputs": [
    {
     "data": {
      "text/plain": [
       "array([  0,   1,   4,   9,  16,  25,  36,  49,  64,  81, 100])"
      ]
     },
     "execution_count": 75,
     "metadata": {},
     "output_type": "execute_result"
    }
   ],
   "source": [
    "a2 ** 2"
   ]
  },
  {
   "cell_type": "markdown",
   "id": "f8ad893a-f83f-4c2d-91e5-465c6853e307",
   "metadata": {},
   "source": [
    "NUMPY UNIVERSAL FUNCTIONS"
   ]
  },
  {
   "cell_type": "code",
   "execution_count": 76,
   "id": "167346a6-b713-458a-9d07-914727f5740d",
   "metadata": {},
   "outputs": [
    {
     "data": {
      "text/plain": [
       "array([0.        , 1.        , 1.41421356, 1.73205081, 2.        ,\n",
       "       2.23606798, 2.44948974, 2.64575131, 2.82842712, 3.        ,\n",
       "       3.16227766])"
      ]
     },
     "execution_count": 76,
     "metadata": {},
     "output_type": "execute_result"
    }
   ],
   "source": [
    "np.sqrt(a2)"
   ]
  },
  {
   "cell_type": "code",
   "execution_count": 77,
   "id": "5370ed1e-5257-489f-8f5d-12cc1c8ef5ea",
   "metadata": {},
   "outputs": [
    {
     "data": {
      "text/plain": [
       "array([1.00000000e+00, 2.71828183e+00, 7.38905610e+00, 2.00855369e+01,\n",
       "       5.45981500e+01, 1.48413159e+02, 4.03428793e+02, 1.09663316e+03,\n",
       "       2.98095799e+03, 8.10308393e+03, 2.20264658e+04])"
      ]
     },
     "execution_count": 77,
     "metadata": {},
     "output_type": "execute_result"
    }
   ],
   "source": [
    "np.exp(a2)"
   ]
  },
  {
   "cell_type": "code",
   "execution_count": 78,
   "id": "6dc3e072-1a70-4249-b765-0f063607ee08",
   "metadata": {},
   "outputs": [
    {
     "data": {
      "text/plain": [
       "10"
      ]
     },
     "execution_count": 78,
     "metadata": {},
     "output_type": "execute_result"
    }
   ],
   "source": [
    "np.max(a2)"
   ]
  },
  {
   "cell_type": "code",
   "execution_count": 79,
   "id": "0755ba9c-b397-460a-9662-38cd6fb56d0f",
   "metadata": {},
   "outputs": [
    {
     "data": {
      "text/plain": [
       "array([ 0.        ,  0.84147098,  0.90929743,  0.14112001, -0.7568025 ,\n",
       "       -0.95892427, -0.2794155 ,  0.6569866 ,  0.98935825,  0.41211849,\n",
       "       -0.54402111])"
      ]
     },
     "execution_count": 79,
     "metadata": {},
     "output_type": "execute_result"
    }
   ],
   "source": [
    "np.sin(a2)"
   ]
  },
  {
   "cell_type": "code",
   "execution_count": 80,
   "id": "f0948aae-e069-4bef-b71b-57bba6ac1e16",
   "metadata": {},
   "outputs": [
    {
     "name": "stderr",
     "output_type": "stream",
     "text": [
      "/tmp/ipykernel_90/970536687.py:1: RuntimeWarning: divide by zero encountered in log\n",
      "  np.log(a2)\n"
     ]
    },
    {
     "data": {
      "text/plain": [
       "array([      -inf, 0.        , 0.69314718, 1.09861229, 1.38629436,\n",
       "       1.60943791, 1.79175947, 1.94591015, 2.07944154, 2.19722458,\n",
       "       2.30258509])"
      ]
     },
     "execution_count": 80,
     "metadata": {},
     "output_type": "execute_result"
    }
   ],
   "source": [
    "np.log(a2)"
   ]
  },
  {
   "cell_type": "code",
   "execution_count": null,
   "id": "d2408c80-f116-42ab-b8e9-f90cdc871a39",
   "metadata": {},
   "outputs": [],
   "source": []
  }
 ],
 "metadata": {
  "kernelspec": {
   "display_name": "Python 3 (ipykernel)",
   "language": "python",
   "name": "python3"
  },
  "language_info": {
   "codemirror_mode": {
    "name": "ipython",
    "version": 3
   },
   "file_extension": ".py",
   "mimetype": "text/x-python",
   "name": "python",
   "nbconvert_exporter": "python",
   "pygments_lexer": "ipython3",
   "version": "3.10.6"
  }
 },
 "nbformat": 4,
 "nbformat_minor": 5
}
